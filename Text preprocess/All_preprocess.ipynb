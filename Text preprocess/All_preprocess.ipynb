{
  "nbformat": 4,
  "nbformat_minor": 0,
  "metadata": {
    "colab": {
      "name": "Text preprocess.ipynb",
      "provenance": [],
      "collapsed_sections": [
        "4iGBktr2oKFC",
        "4aMfXIsGxao2",
        "BzEyvhGutIst",
        "ZCqbb97nzNCq"
      ]
    },
    "kernelspec": {
      "name": "python3",
      "display_name": "Python 3"
    },
    "language_info": {
      "name": "python"
    }
  },
  "cells": [
    {
      "cell_type": "markdown",
      "source": [
        "# Start"
      ],
      "metadata": {
        "id": "4iGBktr2oKFC"
      }
    },
    {
      "cell_type": "code",
      "execution_count": 52,
      "metadata": {
        "id": "S8lYwJ3fnY2t"
      },
      "outputs": [],
      "source": [
        "import pandas as pd\n",
        "import nltk\n",
        "import hazm\n",
        "from sklearn.feature_extraction.text import TfidfVectorizer"
      ]
    },
    {
      "cell_type": "code",
      "source": [
        "data = pd.read_csv('news.csv')\n",
        "data.head()"
      ],
      "metadata": {
        "colab": {
          "base_uri": "https://localhost:8080/",
          "height": 0
        },
        "id": "28cTcqpAoQOt",
        "outputId": "dd787142-5558-4617-fec4-f2177fe07354"
      },
      "execution_count": 53,
      "outputs": [
        {
          "output_type": "execute_result",
          "data": {
            "text/plain": [
              "   NewsID                                              Title  \\\n",
              "0  843656  \\nوزير علوم درجمع استادان نمونه: سن بازنشستگي ...   \n",
              "1  837144  \\nگردهمايي دانش‌آموختگان موسسه آموزش عالي سوره...   \n",
              "2  436862  \\nنتايج آزمون دوره‌هاي فراگير دانشگاه پيام‌نور...   \n",
              "3  227781  \\nهمايش يكروزه آسيب شناسي مفهوم روابط عمومي در...   \n",
              "4  174187  \\nوضعيت اقتصادي و ميزان تحصيلات والدين از مهمت...   \n",
              "\n",
              "                                                Body         Date       Time  \\\n",
              "0  \\nوزير علوم در جمع استادان نمونه كشور گفت: از ...  \\n138/5//09  \\n0:9::18   \n",
              "1  \\nبه گزارش سرويس صنفي آموزشي خبرگزاري دانشجويا...  \\n138/5//09  \\n1:4::11   \n",
              "2  \\nنتايج آزمون دوره‌هاي فراگير مقاطع كارشناسي و...  \\n138/3//07  \\n1:0::03   \n",
              "3                                                 \\n  \\n138/2//02  \\n1:3::42   \n",
              "4  \\nمحمدتقي علوي يزدي، مجري اين طرح پژوهشي در اي...  \\n138/1//08  \\n1:1::49   \n",
              "\n",
              "             Category  Category2  \n",
              "0           \\nآموزشي-   \\nآموزشي  \n",
              "1           \\nآموزشي-   \\nآموزشي  \n",
              "2           \\nآموزشي-   \\nآموزشي  \n",
              "3  \\nاجتماعي-خانواده-  \\nاجتماعي  \n",
              "4           \\nآموزشي-   \\nآموزشي  "
            ],
            "text/html": [
              "\n",
              "  <div id=\"df-48f2e0b4-23c6-42a1-be82-7e7db6c5b133\">\n",
              "    <div class=\"colab-df-container\">\n",
              "      <div>\n",
              "<style scoped>\n",
              "    .dataframe tbody tr th:only-of-type {\n",
              "        vertical-align: middle;\n",
              "    }\n",
              "\n",
              "    .dataframe tbody tr th {\n",
              "        vertical-align: top;\n",
              "    }\n",
              "\n",
              "    .dataframe thead th {\n",
              "        text-align: right;\n",
              "    }\n",
              "</style>\n",
              "<table border=\"1\" class=\"dataframe\">\n",
              "  <thead>\n",
              "    <tr style=\"text-align: right;\">\n",
              "      <th></th>\n",
              "      <th>NewsID</th>\n",
              "      <th>Title</th>\n",
              "      <th>Body</th>\n",
              "      <th>Date</th>\n",
              "      <th>Time</th>\n",
              "      <th>Category</th>\n",
              "      <th>Category2</th>\n",
              "    </tr>\n",
              "  </thead>\n",
              "  <tbody>\n",
              "    <tr>\n",
              "      <th>0</th>\n",
              "      <td>843656</td>\n",
              "      <td>\\nوزير علوم درجمع استادان نمونه: سن بازنشستگي ...</td>\n",
              "      <td>\\nوزير علوم در جمع استادان نمونه كشور گفت: از ...</td>\n",
              "      <td>\\n138/5//09</td>\n",
              "      <td>\\n0:9::18</td>\n",
              "      <td>\\nآموزشي-</td>\n",
              "      <td>\\nآموزشي</td>\n",
              "    </tr>\n",
              "    <tr>\n",
              "      <th>1</th>\n",
              "      <td>837144</td>\n",
              "      <td>\\nگردهمايي دانش‌آموختگان موسسه آموزش عالي سوره...</td>\n",
              "      <td>\\nبه گزارش سرويس صنفي آموزشي خبرگزاري دانشجويا...</td>\n",
              "      <td>\\n138/5//09</td>\n",
              "      <td>\\n1:4::11</td>\n",
              "      <td>\\nآموزشي-</td>\n",
              "      <td>\\nآموزشي</td>\n",
              "    </tr>\n",
              "    <tr>\n",
              "      <th>2</th>\n",
              "      <td>436862</td>\n",
              "      <td>\\nنتايج آزمون دوره‌هاي فراگير دانشگاه پيام‌نور...</td>\n",
              "      <td>\\nنتايج آزمون دوره‌هاي فراگير مقاطع كارشناسي و...</td>\n",
              "      <td>\\n138/3//07</td>\n",
              "      <td>\\n1:0::03</td>\n",
              "      <td>\\nآموزشي-</td>\n",
              "      <td>\\nآموزشي</td>\n",
              "    </tr>\n",
              "    <tr>\n",
              "      <th>3</th>\n",
              "      <td>227781</td>\n",
              "      <td>\\nهمايش يكروزه آسيب شناسي مفهوم روابط عمومي در...</td>\n",
              "      <td>\\n</td>\n",
              "      <td>\\n138/2//02</td>\n",
              "      <td>\\n1:3::42</td>\n",
              "      <td>\\nاجتماعي-خانواده-</td>\n",
              "      <td>\\nاجتماعي</td>\n",
              "    </tr>\n",
              "    <tr>\n",
              "      <th>4</th>\n",
              "      <td>174187</td>\n",
              "      <td>\\nوضعيت اقتصادي و ميزان تحصيلات والدين از مهمت...</td>\n",
              "      <td>\\nمحمدتقي علوي يزدي، مجري اين طرح پژوهشي در اي...</td>\n",
              "      <td>\\n138/1//08</td>\n",
              "      <td>\\n1:1::49</td>\n",
              "      <td>\\nآموزشي-</td>\n",
              "      <td>\\nآموزشي</td>\n",
              "    </tr>\n",
              "  </tbody>\n",
              "</table>\n",
              "</div>\n",
              "      <button class=\"colab-df-convert\" onclick=\"convertToInteractive('df-48f2e0b4-23c6-42a1-be82-7e7db6c5b133')\"\n",
              "              title=\"Convert this dataframe to an interactive table.\"\n",
              "              style=\"display:none;\">\n",
              "        \n",
              "  <svg xmlns=\"http://www.w3.org/2000/svg\" height=\"24px\"viewBox=\"0 0 24 24\"\n",
              "       width=\"24px\">\n",
              "    <path d=\"M0 0h24v24H0V0z\" fill=\"none\"/>\n",
              "    <path d=\"M18.56 5.44l.94 2.06.94-2.06 2.06-.94-2.06-.94-.94-2.06-.94 2.06-2.06.94zm-11 1L8.5 8.5l.94-2.06 2.06-.94-2.06-.94L8.5 2.5l-.94 2.06-2.06.94zm10 10l.94 2.06.94-2.06 2.06-.94-2.06-.94-.94-2.06-.94 2.06-2.06.94z\"/><path d=\"M17.41 7.96l-1.37-1.37c-.4-.4-.92-.59-1.43-.59-.52 0-1.04.2-1.43.59L10.3 9.45l-7.72 7.72c-.78.78-.78 2.05 0 2.83L4 21.41c.39.39.9.59 1.41.59.51 0 1.02-.2 1.41-.59l7.78-7.78 2.81-2.81c.8-.78.8-2.07 0-2.86zM5.41 20L4 18.59l7.72-7.72 1.47 1.35L5.41 20z\"/>\n",
              "  </svg>\n",
              "      </button>\n",
              "      \n",
              "  <style>\n",
              "    .colab-df-container {\n",
              "      display:flex;\n",
              "      flex-wrap:wrap;\n",
              "      gap: 12px;\n",
              "    }\n",
              "\n",
              "    .colab-df-convert {\n",
              "      background-color: #E8F0FE;\n",
              "      border: none;\n",
              "      border-radius: 50%;\n",
              "      cursor: pointer;\n",
              "      display: none;\n",
              "      fill: #1967D2;\n",
              "      height: 32px;\n",
              "      padding: 0 0 0 0;\n",
              "      width: 32px;\n",
              "    }\n",
              "\n",
              "    .colab-df-convert:hover {\n",
              "      background-color: #E2EBFA;\n",
              "      box-shadow: 0px 1px 2px rgba(60, 64, 67, 0.3), 0px 1px 3px 1px rgba(60, 64, 67, 0.15);\n",
              "      fill: #174EA6;\n",
              "    }\n",
              "\n",
              "    [theme=dark] .colab-df-convert {\n",
              "      background-color: #3B4455;\n",
              "      fill: #D2E3FC;\n",
              "    }\n",
              "\n",
              "    [theme=dark] .colab-df-convert:hover {\n",
              "      background-color: #434B5C;\n",
              "      box-shadow: 0px 1px 3px 1px rgba(0, 0, 0, 0.15);\n",
              "      filter: drop-shadow(0px 1px 2px rgba(0, 0, 0, 0.3));\n",
              "      fill: #FFFFFF;\n",
              "    }\n",
              "  </style>\n",
              "\n",
              "      <script>\n",
              "        const buttonEl =\n",
              "          document.querySelector('#df-48f2e0b4-23c6-42a1-be82-7e7db6c5b133 button.colab-df-convert');\n",
              "        buttonEl.style.display =\n",
              "          google.colab.kernel.accessAllowed ? 'block' : 'none';\n",
              "\n",
              "        async function convertToInteractive(key) {\n",
              "          const element = document.querySelector('#df-48f2e0b4-23c6-42a1-be82-7e7db6c5b133');\n",
              "          const dataTable =\n",
              "            await google.colab.kernel.invokeFunction('convertToInteractive',\n",
              "                                                     [key], {});\n",
              "          if (!dataTable) return;\n",
              "\n",
              "          const docLinkHtml = 'Like what you see? Visit the ' +\n",
              "            '<a target=\"_blank\" href=https://colab.research.google.com/notebooks/data_table.ipynb>data table notebook</a>'\n",
              "            + ' to learn more about interactive tables.';\n",
              "          element.innerHTML = '';\n",
              "          dataTable['output_type'] = 'display_data';\n",
              "          await google.colab.output.renderOutput(dataTable, element);\n",
              "          const docLink = document.createElement('div');\n",
              "          docLink.innerHTML = docLinkHtml;\n",
              "          element.appendChild(docLink);\n",
              "        }\n",
              "      </script>\n",
              "    </div>\n",
              "  </div>\n",
              "  "
            ]
          },
          "metadata": {},
          "execution_count": 53
        }
      ]
    },
    {
      "cell_type": "markdown",
      "source": [
        "# Word Tokenize"
      ],
      "metadata": {
        "id": "4aMfXIsGxao2"
      }
    },
    {
      "cell_type": "markdown",
      "source": [
        "## Sentence"
      ],
      "metadata": {
        "id": "wWycW_2wx8xW"
      }
    },
    {
      "cell_type": "code",
      "source": [
        "sent_tokenize = hazm.sent_tokenize('ما هم برای وصل کردن آمدیم! ولی برای پردازش، جدا بهتر نیست؟')\n",
        "sent_tokenize"
      ],
      "metadata": {
        "colab": {
          "base_uri": "https://localhost:8080/"
        },
        "id": "REkTvXg4xhas",
        "outputId": "4b170d87-2872-40b7-ca70-474c18f7c75b"
      },
      "execution_count": 30,
      "outputs": [
        {
          "output_type": "execute_result",
          "data": {
            "text/plain": [
              "['ما هم برای وصل کردن آمدیم!', 'ولی برای پردازش، جدا بهتر نیست؟']"
            ]
          },
          "metadata": {},
          "execution_count": 30
        }
      ]
    },
    {
      "cell_type": "markdown",
      "source": [
        "## Word"
      ],
      "metadata": {
        "id": "KeQMQ1nmx-Yj"
      }
    },
    {
      "cell_type": "code",
      "source": [
        "word_tokenize = hazm.word_tokenize('ولی برای پردازش، جدا بهتر نیست؟')\n",
        "word_tokenize"
      ],
      "metadata": {
        "colab": {
          "base_uri": "https://localhost:8080/"
        },
        "id": "9zIe8d3iyAPW",
        "outputId": "c12abdd6-6b4e-4370-a98d-552cc1a994db"
      },
      "execution_count": 29,
      "outputs": [
        {
          "output_type": "execute_result",
          "data": {
            "text/plain": [
              "['ولی', 'برای', 'پردازش', '،', 'جدا', 'بهتر', 'نیست', '؟']"
            ]
          },
          "metadata": {},
          "execution_count": 29
        }
      ]
    },
    {
      "cell_type": "markdown",
      "source": [
        "# Stop Words\n",
        "### Words without meaning"
      ],
      "metadata": {
        "id": "QJY9CzfzoM7Z"
      }
    },
    {
      "cell_type": "markdown",
      "source": [
        "## Fa"
      ],
      "metadata": {
        "id": "V2c0Kp44pbWE"
      }
    },
    {
      "cell_type": "code",
      "source": [
        "with open('StopWords-Fa.txt') as stopwords_file:              # open file\n",
        "    stopwords_fa = stopwords_file.readlines()                    # read lines file\n",
        "stopwords_fa = [line.replace('\\n', '') for line in stopwords_fa]    # line.replace('\\n', '') --> del \\n for lines \n",
        "print(stopwords_fa[:50])"
      ],
      "metadata": {
        "colab": {
          "base_uri": "https://localhost:8080/"
        },
        "id": "AmjD2h7voOCs",
        "outputId": "124bff68-e0fe-463b-fd89-1e0a4f972b08"
      },
      "execution_count": 67,
      "outputs": [
        {
          "output_type": "stream",
          "name": "stdout",
          "text": [
            "['!', '\"', '#', '(', ')', '*', ',', '-', '.', '/', ':', '[', ']', '«', '»', '،', '؛', '؟', 'آباد', 'آخ', 'آخر', 'آخرها', 'آخه', 'آدمهاست', 'آرام', 'آرام آرام', 'آره', 'آری', 'آزادانه', 'آسان', 'آسیب پذیرند', 'آشنایند', 'آشکارا', 'آقا', 'آقای', 'آقایان', 'آمد', 'آمدن', 'آمده', 'آمرانه', 'آن', 'آن گاه', 'آنان', 'آنانی', 'آنجا', 'آنرا', 'آنطور', 'آنقدر', 'آنها', 'آنهاست']\n"
          ]
        }
      ]
    },
    {
      "cell_type": "markdown",
      "source": [
        "## En"
      ],
      "metadata": {
        "id": "iotRmrdXpdBx"
      }
    },
    {
      "cell_type": "code",
      "source": [
        "nltk.download('stopwords')\n",
        "stopwords_en = nltk.corpus.stopwords.words('english')\n",
        "print(stopwords_en[:50])"
      ],
      "metadata": {
        "colab": {
          "base_uri": "https://localhost:8080/"
        },
        "id": "eg31szBvpewg",
        "outputId": "ea72dcbd-aedb-46fe-897e-19b0acaa4f19"
      },
      "execution_count": 68,
      "outputs": [
        {
          "output_type": "stream",
          "name": "stdout",
          "text": [
            "[nltk_data] Downloading package stopwords to /root/nltk_data...\n",
            "[nltk_data]   Package stopwords is already up-to-date!\n",
            "['i', 'me', 'my', 'myself', 'we', 'our', 'ours', 'ourselves', 'you', \"you're\", \"you've\", \"you'll\", \"you'd\", 'your', 'yours', 'yourself', 'yourselves', 'he', 'him', 'his', 'himself', 'she', \"she's\", 'her', 'hers', 'herself', 'it', \"it's\", 'its', 'itself', 'they', 'them', 'their', 'theirs', 'themselves', 'what', 'which', 'who', 'whom', 'this', 'that', \"that'll\", 'these', 'those', 'am', 'is', 'are', 'was', 'were', 'be']\n"
          ]
        }
      ]
    },
    {
      "cell_type": "markdown",
      "source": [
        "## run"
      ],
      "metadata": {
        "id": "Vtg2w3jNyU96"
      }
    },
    {
      "cell_type": "code",
      "source": [
        "# extend \n",
        "stopwords = stopwords_fa + stopwords_en"
      ],
      "metadata": {
        "id": "lbGCyrUHq7DM"
      },
      "execution_count": 69,
      "outputs": []
    },
    {
      "cell_type": "code",
      "source": [
        "print(word_tokenize)\n",
        "[w for w in word_tokenize if not w in stopwords]"
      ],
      "metadata": {
        "colab": {
          "base_uri": "https://localhost:8080/"
        },
        "id": "kV5L23xJyZKH",
        "outputId": "669c3657-3b5b-4c79-e3c3-cac7b2d7dfd0"
      },
      "execution_count": 33,
      "outputs": [
        {
          "output_type": "stream",
          "name": "stdout",
          "text": [
            "['ولی', 'برای', 'پردازش', '،', 'جدا', 'بهتر', 'نیست', '؟']\n"
          ]
        },
        {
          "output_type": "execute_result",
          "data": {
            "text/plain": [
              "['پردازش']"
            ]
          },
          "metadata": {},
          "execution_count": 33
        }
      ]
    },
    {
      "cell_type": "markdown",
      "source": [
        "# Simplify and root words"
      ],
      "metadata": {
        "id": "BzEyvhGutIst"
      }
    },
    {
      "cell_type": "markdown",
      "source": [
        "## Simplify"
      ],
      "metadata": {
        "id": "EIU-LVCatgUO"
      }
    },
    {
      "cell_type": "code",
      "source": [
        "stemmer = hazm.Stemmer()\n",
        "stemmer.stem('کتاب‌ها')\n"
      ],
      "metadata": {
        "colab": {
          "base_uri": "https://localhost:8080/",
          "height": 35
        },
        "id": "Gqnpm2w5rGn5",
        "outputId": "59231fa1-61c5-49b3-cc65-eb30fe33cc2a"
      },
      "execution_count": 24,
      "outputs": [
        {
          "output_type": "execute_result",
          "data": {
            "text/plain": [
              "'کتاب'"
            ],
            "application/vnd.google.colaboratory.intrinsic+json": {
              "type": "string"
            }
          },
          "metadata": {},
          "execution_count": 24
        }
      ]
    },
    {
      "cell_type": "markdown",
      "source": [
        "## Root"
      ],
      "metadata": {
        "id": "-yWtZAGztkOv"
      }
    },
    {
      "cell_type": "code",
      "source": [
        "lemmatizer = hazm.Lemmatizer()\n",
        "lemmatizer.lemmatize('می‌روم')"
      ],
      "metadata": {
        "colab": {
          "base_uri": "https://localhost:8080/",
          "height": 35
        },
        "id": "euqRS48JtYqs",
        "outputId": "d19abe9c-2756-435c-8987-3df0797c4740"
      },
      "execution_count": 25,
      "outputs": [
        {
          "output_type": "execute_result",
          "data": {
            "text/plain": [
              "'رفت#رو'"
            ],
            "application/vnd.google.colaboratory.intrinsic+json": {
              "type": "string"
            }
          },
          "metadata": {},
          "execution_count": 25
        }
      ]
    },
    {
      "cell_type": "markdown",
      "source": [
        "# Tfidf Vectorizer\n",
        "## Give weight according to word repetition"
      ],
      "metadata": {
        "id": "ZCqbb97nzNCq"
      }
    },
    {
      "cell_type": "code",
      "source": [
        "corpus = [\n",
        "    'This is the first document.',\n",
        "    'This document is the second document.',\n",
        "    'And this is the third one.',\n",
        "    'Is this the first document?',\n",
        "]\n",
        "\n",
        "vectorizer = TfidfVectorizer(ngram_range=(1, 1))      # ngram_range=(1,int) --> Take a int words together + one to one \n",
        "X = vectorizer.fit_transform(corpus)\n",
        "\n",
        "print(vectorizer.get_feature_names_out())\n",
        "print(X.shape)\n",
        "print(X)"
      ],
      "metadata": {
        "colab": {
          "base_uri": "https://localhost:8080/"
        },
        "id": "P3u-skduzPcl",
        "outputId": "a5cdc1e2-4727-4467-f6e9-8d507dcdb235"
      },
      "execution_count": 49,
      "outputs": [
        {
          "output_type": "stream",
          "name": "stdout",
          "text": [
            "['and' 'document' 'first' 'is' 'one' 'second' 'the' 'third' 'this']\n",
            "(4, 9)\n",
            "  (0, 1)\t0.46979138557992045\n",
            "  (0, 2)\t0.5802858236844359\n",
            "  (0, 6)\t0.38408524091481483\n",
            "  (0, 3)\t0.38408524091481483\n",
            "  (0, 8)\t0.38408524091481483\n",
            "  (1, 5)\t0.5386476208856763\n",
            "  (1, 1)\t0.6876235979836938\n",
            "  (1, 6)\t0.281088674033753\n",
            "  (1, 3)\t0.281088674033753\n",
            "  (1, 8)\t0.281088674033753\n",
            "  (2, 4)\t0.511848512707169\n",
            "  (2, 7)\t0.511848512707169\n",
            "  (2, 0)\t0.511848512707169\n",
            "  (2, 6)\t0.267103787642168\n",
            "  (2, 3)\t0.267103787642168\n",
            "  (2, 8)\t0.267103787642168\n",
            "  (3, 1)\t0.46979138557992045\n",
            "  (3, 2)\t0.5802858236844359\n",
            "  (3, 6)\t0.38408524091481483\n",
            "  (3, 3)\t0.38408524091481483\n",
            "  (3, 8)\t0.38408524091481483\n"
          ]
        }
      ]
    },
    {
      "cell_type": "markdown",
      "source": [
        "# Run all on data"
      ],
      "metadata": {
        "id": "FhQau7n71qyj"
      }
    },
    {
      "cell_type": "code",
      "source": [
        "dataset = pd.DataFrame(columns=('title_body', 'category'))                                                                # create new dataset\n",
        "\n",
        "for index, row in data.iterrows():                                                                                        # data.iterrows() ---> get all row\n",
        "    title_body = row['Title'] + ' ' + row['Body']\n",
        "    title_body_tokenized = hazm.word_tokenize(title_body)                                                                 # tokenized\n",
        "    title_body_tokenized_filtered = [w for w in title_body_tokenized if not w in stopwords]                               # del stop work\n",
        "    title_body_tokenized_filtered_stemmed = [stemmer.stem(w) for w in title_body_tokenized_filtered]                      # simplify\n",
        "    title_body_tokenized_filtered_lem = [lemmatizer.lemmatize(w).replace('#', ' ') for w in title_body_tokenized_filtered]# root\n",
        "    dataset.loc[index] = {                                                                                                # add to dataset\n",
        "        'title_body': ' '.join(title_body_tokenized_filtered_lem) + ' ' + ' '.join(title_body_tokenized_filtered_stemmed),# simplify & root\n",
        "        'category': row['Category2'].replace('\\n', '')                                                                    # target - del \\n \n",
        "    }"
      ],
      "metadata": {
        "id": "JRDrS-qgzmz0"
      },
      "execution_count": 60,
      "outputs": []
    },
    {
      "cell_type": "code",
      "source": [
        "vectorizer = TfidfVectorizer(ngram_range=(1, 1))\n",
        "X = vectorizer.fit_transform(dataset['title_body'])                                                                           # Tfidf Vectorizer\n",
        "print(X.shape)"
      ],
      "metadata": {
        "colab": {
          "base_uri": "https://localhost:8080/"
        },
        "id": "BrK_ORJO7zV4",
        "outputId": "44fc57ec-1fae-4f99-c5af-71157e84f07a"
      },
      "execution_count": 61,
      "outputs": [
        {
          "output_type": "stream",
          "name": "stdout",
          "text": [
            "(10999, 70960)\n"
          ]
        }
      ]
    },
    {
      "cell_type": "code",
      "source": [
        "from sklearn.preprocessing import LabelEncoder\n",
        "le = LabelEncoder()                                                                                                           # Encoder number target\n",
        "y = le.fit_transform(dataset['category'])\n",
        "print(y.shape)  \n",
        "le.classes_"
      ],
      "metadata": {
        "colab": {
          "base_uri": "https://localhost:8080/"
        },
        "id": "CmCwDyGB8LwN",
        "outputId": "213b4c23-64f2-415f-d6e5-2587bb94b2c9"
      },
      "execution_count": 62,
      "outputs": [
        {
          "output_type": "stream",
          "name": "stdout",
          "text": [
            "(10999,)\n"
          ]
        },
        {
          "output_type": "execute_result",
          "data": {
            "text/plain": [
              "array(['آموزشي', 'اجتماعي', 'اقتصادي', 'بهداشتي', 'تاريخي', 'سياسي',\n",
              "       'علمي', 'فرهنگي', 'فقه و حقوق', 'مذهبي', 'ورزشي'], dtype=object)"
            ]
          },
          "metadata": {},
          "execution_count": 62
        }
      ]
    },
    {
      "cell_type": "markdown",
      "source": [
        "## train & test"
      ],
      "metadata": {
        "id": "jA5QbUHi8_tr"
      }
    },
    {
      "cell_type": "code",
      "source": [
        "from sklearn.model_selection import train_test_split\n",
        "X_train, X_test, y_train, y_test = train_test_split(X, y)"
      ],
      "metadata": {
        "id": "uOOncFiY86oZ"
      },
      "execution_count": 63,
      "outputs": []
    },
    {
      "cell_type": "code",
      "source": [
        "from sklearn import svm\n",
        "svmc = svm.SVC()\n",
        "svmc.fit(X_train, y_train)"
      ],
      "metadata": {
        "colab": {
          "base_uri": "https://localhost:8080/"
        },
        "id": "MVQoNy229IIT",
        "outputId": "ad5401d8-3f9b-4bb3-e881-ced32c2848b8"
      },
      "execution_count": 64,
      "outputs": [
        {
          "output_type": "execute_result",
          "data": {
            "text/plain": [
              "SVC()"
            ]
          },
          "metadata": {},
          "execution_count": 64
        }
      ]
    },
    {
      "cell_type": "code",
      "source": [
        "svmc.score(X_test, y_test)"
      ],
      "metadata": {
        "colab": {
          "base_uri": "https://localhost:8080/"
        },
        "id": "1RT4GhuL9P5N",
        "outputId": "5488ca6f-31f9-43f7-adcb-616542a8d92f"
      },
      "execution_count": 65,
      "outputs": [
        {
          "output_type": "execute_result",
          "data": {
            "text/plain": [
              "0.8410909090909091"
            ]
          },
          "metadata": {},
          "execution_count": 65
        }
      ]
    }
  ]
}