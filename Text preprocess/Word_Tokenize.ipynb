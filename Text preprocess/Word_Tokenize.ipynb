{
  "nbformat": 4,
  "nbformat_minor": 0,
  "metadata": {
    "colab": {
      "name": "Word Tokenize.ipynb",
      "provenance": [],
      "collapsed_sections": []
    },
    "kernelspec": {
      "name": "python3",
      "display_name": "Python 3"
    },
    "language_info": {
      "name": "python"
    }
  },
  "cells": [
    {
      "cell_type": "code",
      "execution_count": null,
      "metadata": {
        "id": "S8lYwJ3fnY2t"
      },
      "outputs": [],
      "source": [
        "import hazm"
      ]
    },
    {
      "cell_type": "markdown",
      "source": [
        "## Sentence"
      ],
      "metadata": {
        "id": "wWycW_2wx8xW"
      }
    },
    {
      "cell_type": "code",
      "source": [
        "sent_tokenize = hazm.sent_tokenize('ما هم برای وصل کردن آمدیم! ولی برای پردازش، جدا بهتر نیست؟')\n",
        "sent_tokenize"
      ],
      "metadata": {
        "colab": {
          "base_uri": "https://localhost:8080/"
        },
        "id": "REkTvXg4xhas",
        "outputId": "4b170d87-2872-40b7-ca70-474c18f7c75b"
      },
      "execution_count": null,
      "outputs": [
        {
          "output_type": "execute_result",
          "data": {
            "text/plain": [
              "['ما هم برای وصل کردن آمدیم!', 'ولی برای پردازش، جدا بهتر نیست؟']"
            ]
          },
          "metadata": {},
          "execution_count": 30
        }
      ]
    },
    {
      "cell_type": "markdown",
      "source": [
        "## Word"
      ],
      "metadata": {
        "id": "KeQMQ1nmx-Yj"
      }
    },
    {
      "cell_type": "code",
      "source": [
        "word_tokenize = hazm.word_tokenize('ولی برای پردازش، جدا بهتر نیست؟')\n",
        "word_tokenize"
      ],
      "metadata": {
        "colab": {
          "base_uri": "https://localhost:8080/"
        },
        "id": "9zIe8d3iyAPW",
        "outputId": "c12abdd6-6b4e-4370-a98d-552cc1a994db"
      },
      "execution_count": null,
      "outputs": [
        {
          "output_type": "execute_result",
          "data": {
            "text/plain": [
              "['ولی', 'برای', 'پردازش', '،', 'جدا', 'بهتر', 'نیست', '؟']"
            ]
          },
          "metadata": {},
          "execution_count": 29
        }
      ]
    }
  ]
}