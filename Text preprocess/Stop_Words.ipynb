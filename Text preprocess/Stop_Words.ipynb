{
  "nbformat": 4,
  "nbformat_minor": 0,
  "metadata": {
    "colab": {
      "name": "Stop Words.ipynb",
      "provenance": [],
      "collapsed_sections": []
    },
    "kernelspec": {
      "name": "python3",
      "display_name": "Python 3"
    },
    "language_info": {
      "name": "python"
    }
  },
  "cells": [
    {
      "cell_type": "code",
      "execution_count": null,
      "metadata": {
        "id": "S8lYwJ3fnY2t"
      },
      "outputs": [],
      "source": [
        "import nltk"
      ]
    },
    {
      "cell_type": "markdown",
      "source": [
        "### Words without meaning"
      ],
      "metadata": {
        "id": "K46cFGXpBzDf"
      }
    },
    {
      "cell_type": "markdown",
      "source": [
        "## Fa"
      ],
      "metadata": {
        "id": "V2c0Kp44pbWE"
      }
    },
    {
      "cell_type": "code",
      "source": [
        "with open('StopWords-Fa.txt') as stopwords_file:              # open file\n",
        "    stopwords_fa = stopwords_file.readlines()                    # read lines file\n",
        "stopwords_fa = [line.replace('\\n', '') for line in stopwords_fa]    # line.replace('\\n', '') --> del \\n for lines \n",
        "print(stopwords_fa[:50])"
      ],
      "metadata": {
        "colab": {
          "base_uri": "https://localhost:8080/"
        },
        "id": "AmjD2h7voOCs",
        "outputId": "124bff68-e0fe-463b-fd89-1e0a4f972b08"
      },
      "execution_count": null,
      "outputs": [
        {
          "output_type": "stream",
          "name": "stdout",
          "text": [
            "['!', '\"', '#', '(', ')', '*', ',', '-', '.', '/', ':', '[', ']', '«', '»', '،', '؛', '؟', 'آباد', 'آخ', 'آخر', 'آخرها', 'آخه', 'آدمهاست', 'آرام', 'آرام آرام', 'آره', 'آری', 'آزادانه', 'آسان', 'آسیب پذیرند', 'آشنایند', 'آشکارا', 'آقا', 'آقای', 'آقایان', 'آمد', 'آمدن', 'آمده', 'آمرانه', 'آن', 'آن گاه', 'آنان', 'آنانی', 'آنجا', 'آنرا', 'آنطور', 'آنقدر', 'آنها', 'آنهاست']\n"
          ]
        }
      ]
    },
    {
      "cell_type": "markdown",
      "source": [
        "## En"
      ],
      "metadata": {
        "id": "iotRmrdXpdBx"
      }
    },
    {
      "cell_type": "code",
      "source": [
        "nltk.download('stopwords')\n",
        "stopwords_en = nltk.corpus.stopwords.words('english')\n",
        "print(stopwords_en[:50])"
      ],
      "metadata": {
        "colab": {
          "base_uri": "https://localhost:8080/"
        },
        "id": "eg31szBvpewg",
        "outputId": "ea72dcbd-aedb-46fe-897e-19b0acaa4f19"
      },
      "execution_count": null,
      "outputs": [
        {
          "output_type": "stream",
          "name": "stdout",
          "text": [
            "[nltk_data] Downloading package stopwords to /root/nltk_data...\n",
            "[nltk_data]   Package stopwords is already up-to-date!\n",
            "['i', 'me', 'my', 'myself', 'we', 'our', 'ours', 'ourselves', 'you', \"you're\", \"you've\", \"you'll\", \"you'd\", 'your', 'yours', 'yourself', 'yourselves', 'he', 'him', 'his', 'himself', 'she', \"she's\", 'her', 'hers', 'herself', 'it', \"it's\", 'its', 'itself', 'they', 'them', 'their', 'theirs', 'themselves', 'what', 'which', 'who', 'whom', 'this', 'that', \"that'll\", 'these', 'those', 'am', 'is', 'are', 'was', 'were', 'be']\n"
          ]
        }
      ]
    },
    {
      "cell_type": "markdown",
      "source": [
        "## extend"
      ],
      "metadata": {
        "id": "Vtg2w3jNyU96"
      }
    },
    {
      "cell_type": "code",
      "source": [
        "# extend \n",
        "stopwords = stopwords_fa + stopwords_en"
      ],
      "metadata": {
        "id": "lbGCyrUHq7DM"
      },
      "execution_count": null,
      "outputs": []
    },
    {
      "cell_type": "code",
      "source": [
        "print(word_tokenize)\n",
        "[w for w in word_tokenize if not w in stopwords]"
      ],
      "metadata": {
        "colab": {
          "base_uri": "https://localhost:8080/"
        },
        "id": "kV5L23xJyZKH",
        "outputId": "669c3657-3b5b-4c79-e3c3-cac7b2d7dfd0"
      },
      "execution_count": null,
      "outputs": [
        {
          "output_type": "stream",
          "name": "stdout",
          "text": [
            "['ولی', 'برای', 'پردازش', '،', 'جدا', 'بهتر', 'نیست', '؟']\n"
          ]
        },
        {
          "output_type": "execute_result",
          "data": {
            "text/plain": [
              "['پردازش']"
            ]
          },
          "metadata": {},
          "execution_count": 33
        }
      ]
    }
  ]
}