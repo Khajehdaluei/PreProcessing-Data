{
 "cells": [
  {
   "cell_type": "markdown",
   "metadata": {
    "id": "1uSBWplqNSQq"
   },
   "source": [
    "## Lib"
   ]
  },
  {
   "cell_type": "code",
   "execution_count": 1,
   "metadata": {
    "id": "MmkDy8_bM7CE"
   },
   "outputs": [],
   "source": [
    "import numpy as np\n",
    "import pandas as pd"
   ]
  },
  {
   "cell_type": "markdown",
   "metadata": {
    "id": "ca4O7ddBNVfp"
   },
   "source": [
    "## Load Data"
   ]
  },
  {
   "cell_type": "code",
   "execution_count": 15,
   "metadata": {
    "colab": {
     "base_uri": "https://localhost:8080/",
     "height": 206
    },
    "id": "Ke2gtYDENxSd",
    "outputId": "1e1fffb3-d030-43ff-bee4-79bbe35af5f4"
   },
   "outputs": [
    {
     "data": {
      "text/html": [
       "<div>\n",
       "<style scoped>\n",
       "    .dataframe tbody tr th:only-of-type {\n",
       "        vertical-align: middle;\n",
       "    }\n",
       "\n",
       "    .dataframe tbody tr th {\n",
       "        vertical-align: top;\n",
       "    }\n",
       "\n",
       "    .dataframe thead th {\n",
       "        text-align: right;\n",
       "    }\n",
       "</style>\n",
       "<table border=\"1\" class=\"dataframe\">\n",
       "  <thead>\n",
       "    <tr style=\"text-align: right;\">\n",
       "      <th></th>\n",
       "      <th>Region</th>\n",
       "      <th>Age</th>\n",
       "      <th>Income</th>\n",
       "      <th>Online Shopper</th>\n",
       "    </tr>\n",
       "  </thead>\n",
       "  <tbody>\n",
       "    <tr>\n",
       "      <th>0</th>\n",
       "      <td>India</td>\n",
       "      <td>49.0</td>\n",
       "      <td>86400.0</td>\n",
       "      <td>No</td>\n",
       "    </tr>\n",
       "    <tr>\n",
       "      <th>1</th>\n",
       "      <td>Brazil</td>\n",
       "      <td>32.0</td>\n",
       "      <td>57600.0</td>\n",
       "      <td>Yes</td>\n",
       "    </tr>\n",
       "    <tr>\n",
       "      <th>2</th>\n",
       "      <td>USA</td>\n",
       "      <td>35.0</td>\n",
       "      <td>64800.0</td>\n",
       "      <td>No</td>\n",
       "    </tr>\n",
       "    <tr>\n",
       "      <th>3</th>\n",
       "      <td>Brazil</td>\n",
       "      <td>43.0</td>\n",
       "      <td>73200.0</td>\n",
       "      <td>No</td>\n",
       "    </tr>\n",
       "    <tr>\n",
       "      <th>4</th>\n",
       "      <td>USA</td>\n",
       "      <td>45.0</td>\n",
       "      <td>NaN</td>\n",
       "      <td>Yes</td>\n",
       "    </tr>\n",
       "  </tbody>\n",
       "</table>\n",
       "</div>"
      ],
      "text/plain": [
       "   Region   Age   Income Online Shopper\n",
       "0   India  49.0  86400.0             No\n",
       "1  Brazil  32.0  57600.0            Yes\n",
       "2     USA  35.0  64800.0             No\n",
       "3  Brazil  43.0  73200.0             No\n",
       "4     USA  45.0      NaN            Yes"
      ]
     },
     "execution_count": 15,
     "metadata": {},
     "output_type": "execute_result"
    }
   ],
   "source": [
    "data = pd.read_csv('DataPreprocessing.csv')\n",
    "X = data.iloc[:, :-1].values # X --> matrix | x --> array\n",
    "y = data.iloc[:, -1].values\n",
    "data.head()"
   ]
  },
  {
   "cell_type": "markdown",
   "metadata": {
    "id": "IPNO0HhLV5VC"
   },
   "source": [
    "# Normalization"
   ]
  },
  {
   "cell_type": "code",
   "execution_count": 3,
   "metadata": {
    "id": "aDnbrgo1lSrp"
   },
   "outputs": [],
   "source": [
    "from sklearn.preprocessing import Normalizer"
   ]
  },
  {
   "cell_type": "code",
   "execution_count": 4,
   "metadata": {
    "colab": {
     "base_uri": "https://localhost:8080/"
    },
    "id": "w39lF2wzV_vW",
    "outputId": "4886ddc2-a330-4a87-ef36-fa7fba3545b6"
   },
   "outputs": [
    {
     "data": {
      "text/plain": [
       "array([[5.67129538e-04, 9.99999839e-01],\n",
       "       [5.55555470e-04, 9.99999846e-01],\n",
       "       [5.40123378e-04, 9.99999854e-01],\n",
       "       [5.87431593e-04, 9.99999827e-01],\n",
       "       [5.74712549e-04, 9.99999835e-01],\n",
       "       [5.59071643e-04, 9.99999844e-01],\n",
       "       [5.52208751e-04, 9.99999848e-01],\n",
       "       [5.22387988e-04, 9.99999864e-01]])"
      ]
     },
     "execution_count": 4,
     "metadata": {},
     "output_type": "execute_result"
    }
   ],
   "source": [
    "data = data.dropna()\n",
    "data = data[['Age','Income']]\n",
    "\n",
    "norm = Normalizer(norm=\"l2\")\n",
    "\n",
    "data = norm.fit_transform(data)\n",
    "\n",
    "data"
   ]
  },
  {
   "cell_type": "code",
   "execution_count": 5,
   "metadata": {
    "colab": {
     "base_uri": "https://localhost:8080/"
    },
    "id": "jb7bwVnH3RHP",
    "outputId": "22ed11cb-c095-41fa-d21b-a442755e198d"
   },
   "outputs": [
    {
     "data": {
      "text/plain": [
       "1.0"
      ]
     },
     "execution_count": 5,
     "metadata": {},
     "output_type": "execute_result"
    }
   ],
   "source": [
    "#l2 ---> sum row = 1\n",
    "data=data**2\n",
    "\n",
    "data[0].sum()"
   ]
  },
  {
   "cell_type": "markdown",
   "metadata": {
    "id": "3he9Xv0GWCkC"
   },
   "source": [
    "# MinMax Scaling"
   ]
  },
  {
   "cell_type": "code",
   "execution_count": 6,
   "metadata": {
    "id": "IME1Lc9kWDQw"
   },
   "outputs": [],
   "source": [
    "from sklearn.preprocessing import MinMaxScaler"
   ]
  },
  {
   "cell_type": "code",
   "execution_count": 7,
   "metadata": {
    "colab": {
     "base_uri": "https://localhost:8080/"
    },
    "id": "9u5_U_GrkkTT",
    "outputId": "0a698681-9612-490d-9da7-9ead6668e9a8"
   },
   "outputs": [
    {
     "data": {
      "text/plain": [
       "array([['India', 0.7391304347826089, 0.6857142857142859],\n",
       "       ['Brazil', 0.0, 0.0],\n",
       "       ['USA', 0.13043478260869557, 0.17142857142857149],\n",
       "       ['Brazil', 0.4782608695652173, 0.37142857142857144],\n",
       "       ['USA', 0.5652173913043479, nan],\n",
       "       ['India', 0.34782608695652173, 0.2857142857142858],\n",
       "       ['Brazil', nan, 0.11428571428571432],\n",
       "       ['India', 0.9130434782608696, 0.8857142857142857],\n",
       "       ['USA', 1.0, 1.0],\n",
       "       ['India', 0.4347826086956521, 0.5428571428571429]], dtype=object)"
      ]
     },
     "execution_count": 7,
     "metadata": {},
     "output_type": "execute_result"
    }
   ],
   "source": [
    "scaler = MinMaxScaler(feature_range=(0, 1))\n",
    "X[:,1:] = scaler.fit_transform(X[:,1:])\n",
    "X"
   ]
  },
  {
   "cell_type": "markdown",
   "metadata": {
    "id": "XqHzElHUWGhF"
   },
   "source": [
    "# Standard Scaler"
   ]
  },
  {
   "cell_type": "code",
   "execution_count": 8,
   "metadata": {
    "id": "hCzEN32uWJWf"
   },
   "outputs": [],
   "source": [
    "from sklearn.preprocessing import StandardScaler"
   ]
  },
  {
   "cell_type": "code",
   "execution_count": 9,
   "metadata": {
    "colab": {
     "base_uri": "https://localhost:8080/"
    },
    "id": "I3-JCgx7WQSb",
    "outputId": "db9d6683-0379-48bf-d0aa-abeec60a4ab6"
   },
   "outputs": [
    {
     "data": {
      "text/plain": [
       "array([['India', 0.7199314321591977, 0.7110127588722818],\n",
       "       ['Brazil', -1.6236751448696793, -1.3643758345927561],\n",
       "       ['USA', -1.2100975136292897, -0.8455286862264967],\n",
       "       ['Brazil', -0.10722383032158307, -0.24020701313252762],\n",
       "       ['USA', 0.1684945905053441, nan],\n",
       "       ['India', -0.5208014615619728, -0.499630587315657],\n",
       "       ['Brazil', nan, -1.0184777356819166],\n",
       "       ['India', 1.2713682738130507, 1.3163344319662502],\n",
       "       ['USA', 1.5470866946399773, 1.6622325308770898],\n",
       "       ['India', -0.2450830407350463, 0.2786401352337319]], dtype=object)"
      ]
     },
     "execution_count": 9,
     "metadata": {},
     "output_type": "execute_result"
    }
   ],
   "source": [
    "ss = StandardScaler()\n",
    "X[:,1:] = ss.fit_transform(X[:,1:])\n",
    "X"
   ]
  },
  {
   "cell_type": "markdown",
   "metadata": {
    "id": "3H8sbKLOz18S"
   },
   "source": [
    "# Binarizer"
   ]
  },
  {
   "cell_type": "code",
   "execution_count": 10,
   "metadata": {
    "id": "Y-e4UGl2z6pT"
   },
   "outputs": [],
   "source": [
    "from sklearn.preprocessing import Binarizer"
   ]
  },
  {
   "cell_type": "code",
   "execution_count": 14,
   "metadata": {
    "colab": {
     "base_uri": "https://localhost:8080/"
    },
    "id": "lN-HNJYOz3VT",
    "outputId": "9c88e90b-d9f3-4575-b1a9-34adea06c2a4"
   },
   "outputs": [
    {
     "data": {
      "text/plain": [
       "array([[0., 1.],\n",
       "       [0., 1.],\n",
       "       [0., 1.],\n",
       "       [0., 1.],\n",
       "       [0., 1.],\n",
       "       [1., 1.],\n",
       "       [1., 1.],\n",
       "       [0., 1.]])"
      ]
     },
     "execution_count": 14,
     "metadata": {},
     "output_type": "execute_result"
    }
   ],
   "source": [
    "data = data.dropna()\n",
    "data = data[['Age','Income']]\n",
    "\n",
    "binarizer = Binarizer(threshold=50.0)\n",
    "\n",
    "data = binarizer.fit_transform(data)\n",
    "data"
   ]
  },
  {
   "cell_type": "markdown",
   "metadata": {},
   "source": [
    "# qcut (partion scale)"
   ]
  },
  {
   "cell_type": "code",
   "execution_count": 16,
   "metadata": {},
   "outputs": [
    {
     "data": {
      "text/html": [
       "<div>\n",
       "<style scoped>\n",
       "    .dataframe tbody tr th:only-of-type {\n",
       "        vertical-align: middle;\n",
       "    }\n",
       "\n",
       "    .dataframe tbody tr th {\n",
       "        vertical-align: top;\n",
       "    }\n",
       "\n",
       "    .dataframe thead th {\n",
       "        text-align: right;\n",
       "    }\n",
       "</style>\n",
       "<table border=\"1\" class=\"dataframe\">\n",
       "  <thead>\n",
       "    <tr style=\"text-align: right;\">\n",
       "      <th></th>\n",
       "      <th>Age</th>\n",
       "      <th>Income</th>\n",
       "    </tr>\n",
       "  </thead>\n",
       "  <tbody>\n",
       "    <tr>\n",
       "      <th>0</th>\n",
       "      <td>2</td>\n",
       "      <td>3</td>\n",
       "    </tr>\n",
       "    <tr>\n",
       "      <th>1</th>\n",
       "      <td>4</td>\n",
       "      <td>1</td>\n",
       "    </tr>\n",
       "    <tr>\n",
       "      <th>2</th>\n",
       "      <td>4</td>\n",
       "      <td>1</td>\n",
       "    </tr>\n",
       "    <tr>\n",
       "      <th>3</th>\n",
       "      <td>2</td>\n",
       "      <td>2</td>\n",
       "    </tr>\n",
       "    <tr>\n",
       "      <th>5</th>\n",
       "      <td>3</td>\n",
       "      <td>2</td>\n",
       "    </tr>\n",
       "    <tr>\n",
       "      <th>7</th>\n",
       "      <td>1</td>\n",
       "      <td>4</td>\n",
       "    </tr>\n",
       "    <tr>\n",
       "      <th>8</th>\n",
       "      <td>1</td>\n",
       "      <td>4</td>\n",
       "    </tr>\n",
       "    <tr>\n",
       "      <th>9</th>\n",
       "      <td>3</td>\n",
       "      <td>3</td>\n",
       "    </tr>\n",
       "  </tbody>\n",
       "</table>\n",
       "</div>"
      ],
      "text/plain": [
       "  Age Income\n",
       "0   2      3\n",
       "1   4      1\n",
       "2   4      1\n",
       "3   2      2\n",
       "5   3      2\n",
       "7   1      4\n",
       "8   1      4\n",
       "9   3      3"
      ]
     },
     "execution_count": 16,
     "metadata": {},
     "output_type": "execute_result"
    }
   ],
   "source": [
    "data = data.dropna()\n",
    "data = data[['Age','Income']]\n",
    "\n",
    "#range --> 4 3 2 1\n",
    "range_labels_age = range(4, 0, -1)\n",
    "age_groups = pd.qcut(data['Age'], q=4, labels=range_labels_age)\n",
    "data['Age'] = age_groups.values\n",
    "\n",
    "#range --> 1 2 3 4\n",
    "range_labels_Income = range(1, 5, 1)\n",
    "Income_groups = pd.qcut(data['Income'], q=4, labels=range_labels_Income)\n",
    "data['Income'] = Income_groups.values\n",
    "\n",
    "data"
   ]
  }
 ],
 "metadata": {
  "colab": {
   "collapsed_sections": [
    "tv53QRL3NOwo",
    "1uSBWplqNSQq",
    "ca4O7ddBNVfp",
    "IPNO0HhLV5VC",
    "3he9Xv0GWCkC",
    "XqHzElHUWGhF",
    "3H8sbKLOz18S"
   ],
   "name": "Scaling.ipynb",
   "provenance": []
  },
  "kernelspec": {
   "display_name": "Python 3 (ipykernel)",
   "language": "python",
   "name": "python3"
  },
  "language_info": {
   "codemirror_mode": {
    "name": "ipython",
    "version": 3
   },
   "file_extension": ".py",
   "mimetype": "text/x-python",
   "name": "python",
   "nbconvert_exporter": "python",
   "pygments_lexer": "ipython3",
   "version": "3.9.7"
  }
 },
 "nbformat": 4,
 "nbformat_minor": 1
}
